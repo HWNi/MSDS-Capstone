{
 "cells": [
  {
   "cell_type": "code",
   "execution_count": 5,
   "metadata": {
    "collapsed": true
   },
   "outputs": [],
   "source": [
    "import csv"
   ]
  },
  {
   "cell_type": "code",
   "execution_count": 21,
   "metadata": {},
   "outputs": [],
   "source": [
    "with open('C://Users/nhw10/Desktop/Author_refined_simple_sample_withAfId.csv', 'wb') as csv_write:\n",
    "    paper_writer = csv.writer(csv_write)\n",
    "    with open('C://Users/nhw10/Desktop/Author_refined_simple_sample.csv', 'rb') as csv_read:\n",
    "        paper_reader = csv.reader(csv_read, delimiter=',')\n",
    "        # Skip first line\n",
    "        header = next(paper_reader)\n",
    "        header.append('AffliationId')\n",
    "        paper_writer.writerow(header)\n",
    "        count = 0\n",
    "        affli_dict= {}\n",
    "        for row in paper_reader:\n",
    "            affliation = ' '.join(row[4:])\n",
    "            if affliation in affli_dict:\n",
    "                affliation_id = affli_dict[affliation]\n",
    "                row.append(affliation_id)\n",
    "            else:\n",
    "                count += 1\n",
    "                affli_dict[affliation] = count\n",
    "                row.append(count)\n",
    "            paper_writer.writerow(row)\n",
    "        csv_read.close()\n",
    "    csv_write.close()"
   ]
  },
  {
   "cell_type": "code",
   "execution_count": 22,
   "metadata": {},
   "outputs": [
    {
     "data": {
      "text/plain": [
       "[2, 3]"
      ]
     },
     "execution_count": 22,
     "metadata": {},
     "output_type": "execute_result"
    }
   ],
   "source": [
    "a = [1,2,3,4]\n",
    "a[1:-1]"
   ]
  },
  {
   "cell_type": "code",
   "execution_count": null,
   "metadata": {
    "collapsed": true
   },
   "outputs": [],
   "source": []
  }
 ],
 "metadata": {
  "kernelspec": {
   "display_name": "Python 2",
   "language": "python",
   "name": "python2"
  },
  "language_info": {
   "codemirror_mode": {
    "name": "ipython",
    "version": 2
   },
   "file_extension": ".py",
   "mimetype": "text/x-python",
   "name": "python",
   "nbconvert_exporter": "python",
   "pygments_lexer": "ipython2",
   "version": "2.7.14"
  }
 },
 "nbformat": 4,
 "nbformat_minor": 2
}
