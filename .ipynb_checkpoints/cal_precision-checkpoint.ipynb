{
 "cells": [
  {
   "cell_type": "code",
   "execution_count": 2,
   "metadata": {
    "collapsed": true
   },
   "outputs": [],
   "source": [
    "import pickle\n",
    "model_output = pickle.load(open(\"data/authors_duplicates_dict_seal\", \"rb\"))"
   ]
  },
  {
   "cell_type": "code",
   "execution_count": 4,
   "metadata": {
    "collapsed": true
   },
   "outputs": [],
   "source": [
    "import pandas as pd\n",
    "import numpy as np"
   ]
  },
  {
   "cell_type": "code",
   "execution_count": 5,
   "metadata": {
    "collapsed": true
   },
   "outputs": [],
   "source": [
    "label_data = pd.read_csv('data/label_data.csv')\n",
    "label_data['authorId'] = label_data.index + 1"
   ]
  },
  {
   "cell_type": "code",
   "execution_count": 6,
   "metadata": {
    "collapsed": true
   },
   "outputs": [],
   "source": [
    "label_dict = {}\n",
    "for i in xrange(label_data.shape[0]):\n",
    "    line = label_data[i:i+1]\n",
    "    personID  = int(line['personID'])\n",
    "    label = int(line['label'])\n",
    "    authorId = int(line['authorId'])\n",
    "    if personID in label_dict: \n",
    "        if label in label_dict[personID]:\n",
    "            label_dict[personID][label].add(authorId)\n",
    "        else:                \n",
    "            label_dict[personID][label]= {authorId}\n",
    "    else:\n",
    "        label_dict[personID] = {label:{authorId}}"
   ]
  },
  {
   "cell_type": "code",
   "execution_count": 7,
   "metadata": {
    "collapsed": true
   },
   "outputs": [],
   "source": [
    "label_per_authorId = {}\n",
    "for i in xrange(label_data.shape[0]):\n",
    "    line = label_data[i:i+1]\n",
    "    personID  = int(line['personID'])\n",
    "    label = int(line['label'])\n",
    "    authorId = int(line['authorId'])\n",
    "    label_per_authorId[authorId] =  label_dict[personID][label]    "
   ]
  },
  {
   "cell_type": "code",
   "execution_count": 10,
   "metadata": {
    "collapsed": true
   },
   "outputs": [],
   "source": [
    "# key: authoId, value:[precision, recall, f1_score]\n",
    "p_r_f1 = {}\n",
    "for key in model_output.keys():\n",
    "    if key in label_per_authorId.keys():\n",
    "        same_id = model_output[key].intersection(label_per_authorId[key])\n",
    "        model_output_id = model_output[key]\n",
    "        label_id = label_per_authorId[key]\n",
    "        if len(model_output_id) == 0:\n",
    "            p = 0\n",
    "        else:\n",
    "            p = 1.0*len(same_id)/len(model_output_id)\n",
    "        if len(label_id) == 0:\n",
    "            r = 0\n",
    "        else:\n",
    "            r = 1.0*len(same_id)/len(label_id)\n",
    "        if p+r == 0:\n",
    "            f1 = 0\n",
    "        else:\n",
    "            f1 = 2.0*p*r/(p+r)\n",
    "        p_r_f1[key] = [p,r,f1]"
   ]
  },
  {
   "cell_type": "code",
   "execution_count": 12,
   "metadata": {},
   "outputs": [
    {
     "name": "stdout",
     "output_type": "stream",
     "text": [
      "precision: 0.399667235536\n",
      "recall: 0.326228286559\n",
      "f1 score: 0.260859077316\n"
     ]
    }
   ],
   "source": [
    "precision = np.mean([val[0] for val in p_r_f1.values()])\n",
    "print \"precision:\", precision\n",
    "recall = np.mean([val[1] for val in p_r_f1.values()])\n",
    "print \"recall:\", recall\n",
    "f1 = np.mean([val[2] for val in p_r_f1.values()])\n",
    "print \"f1 score:\", f1"
   ]
  },
  {
   "cell_type": "code",
   "execution_count": 13,
   "metadata": {},
   "outputs": [
    {
     "name": "stdout",
     "output_type": "stream",
     "text": [
      "measures for 1st Li Shen\n",
      "[0.65, 0.3939393939393939, 0.490566037735849]\n",
      "measures for 2nd Li Shen\n",
      "[0.65, 0.3939393939393939, 0.490566037735849]\n"
     ]
    }
   ],
   "source": [
    "print \"measures for 1st Li Shen\"\n",
    "print p_r_f1[1]\n",
    "print \"measures for 2nd Li Shen\"\n",
    "print p_r_f1[2]"
   ]
  },
  {
   "cell_type": "code",
   "execution_count": 14,
   "metadata": {},
   "outputs": [
    {
     "name": "stdout",
     "output_type": "stream",
     "text": [
      "for 1st Li Shen\n",
      "model output set([2, 3, 4, 5, 47, 9, 10, 11, 66, 46, 13, 17, 67, 62, 59, 15, 60, 29, 30, 37])\n",
      "ground truth label set([1, 2, 3, 4, 5, 12, 13, 14, 15, 18, 19, 22, 28, 29, 30, 31, 32, 33, 34, 37, 39, 40, 41, 46, 47, 48, 52, 53, 56, 57, 62, 65, 67])\n",
      "true positive set([2, 3, 4, 5, 13, 46, 47, 67, 30, 15, 29, 62, 37])\n"
     ]
    }
   ],
   "source": [
    "key = 1 \n",
    "same_id = model_output[key].intersection(label_per_authorId[key])\n",
    "model_output_id = model_output[key]\n",
    "label_id = label_per_authorId[key]\n",
    "print \"for 1st Li Shen\"\n",
    "print \"model output\", model_output_id \n",
    "print \"ground truth label\", label_id\n",
    "print \"true positive\",same_id"
   ]
  },
  {
   "cell_type": "code",
   "execution_count": 15,
   "metadata": {},
   "outputs": [
    {
     "name": "stdout",
     "output_type": "stream",
     "text": [
      "for 2nd Li Shen\n",
      "model output set([1, 66, 3, 4, 5, 9, 10, 11, 13, 46, 15, 17, 67, 62, 59, 47, 60, 29, 30, 37])\n",
      "ground truth label set([1, 2, 3, 4, 5, 12, 13, 14, 15, 18, 19, 22, 28, 29, 30, 31, 32, 33, 34, 37, 39, 40, 41, 46, 47, 48, 52, 53, 56, 57, 62, 65, 67])\n",
      "true positive set([1, 3, 4, 5, 13, 46, 15, 67, 30, 47, 29, 62, 37])\n"
     ]
    }
   ],
   "source": [
    "key = 2 \n",
    "same_id = model_output[key].intersection(label_per_authorId[key])\n",
    "model_output_id = model_output[key]\n",
    "label_id = label_per_authorId[key]\n",
    "print \"for 2nd Li Shen\"\n",
    "print \"model output\", model_output_id \n",
    "print \"ground truth label\", label_id\n",
    "print \"true positive\",same_id"
   ]
  },
  {
   "cell_type": "code",
   "execution_count": null,
   "metadata": {
    "collapsed": true
   },
   "outputs": [],
   "source": []
  }
 ],
 "metadata": {
  "kernelspec": {
   "display_name": "Python 2",
   "language": "python",
   "name": "python2"
  },
  "language_info": {
   "codemirror_mode": {
    "name": "ipython",
    "version": 2
   },
   "file_extension": ".py",
   "mimetype": "text/x-python",
   "name": "python",
   "nbconvert_exporter": "python",
   "pygments_lexer": "ipython2",
   "version": "2.7.13"
  }
 },
 "nbformat": 4,
 "nbformat_minor": 2
}
